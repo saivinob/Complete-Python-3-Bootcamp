{
 "cells": [
  {
   "cell_type": "markdown",
   "metadata": {},
   "source": [
    "___\n",
    "\n",
    "<a href='https://www.udemy.com/user/joseportilla/'><img src='../Pierian_Data_Logo.png'/></a>\n",
    "___\n",
    "<center><em>Content Copyright by Pierian Data</em></center>"
   ]
  },
  {
   "cell_type": "markdown",
   "metadata": {},
   "source": [
    "# Guessing Game Challenge\n",
    "\n",
    "Let's use `while` loops to create a guessing game.\n",
    "\n",
    "The Challenge:\n",
    "\n",
    "Write a program that picks a random integer from 1 to 100, and has players guess the number. The rules are:\n",
    "\n",
    "1. If a player's guess is less than 1 or greater than 100, say \"OUT OF BOUNDS\"\n",
    "2. On a player's first turn, if their guess is\n",
    " * within 10 of the number, return \"WARM!\"\n",
    " * further than 10 away from the number, return \"COLD!\"\n",
    "3. On all subsequent turns, if a guess is \n",
    " * closer to the number than the previous guess return \"WARMER!\"\n",
    " * farther from the number than the previous guess, return \"COLDER!\"\n",
    "4. When the player's guess equals the number, tell them they've guessed correctly *and* how many guesses it took!\n",
    "\n",
    "You can try this from scratch, or follow the steps outlined below. A separate Solution notebook has been provided. Good luck!\n"
   ]
  },
  {
   "cell_type": "markdown",
   "metadata": {},
   "source": [
    "#### First, pick a random integer from 1 to 100 using the random module and assign it to a variable\n",
    "\n",
    "Note: `random.randint(a,b)` returns a random integer in range `[a, b]`, including both end points."
   ]
  },
  {
   "cell_type": "code",
   "execution_count": 1,
   "metadata": {},
   "outputs": [
    {
     "data": {
      "text/plain": [
       "83"
      ]
     },
     "execution_count": 1,
     "metadata": {},
     "output_type": "execute_result"
    }
   ],
   "source": [
    "from random import randint\n",
    "randint(1, 101)"
   ]
  },
  {
   "cell_type": "markdown",
   "metadata": {},
   "source": [
    "#### Next, print an introduction to the game and explain the rules"
   ]
  },
  {
   "cell_type": "code",
   "execution_count": 2,
   "metadata": {},
   "outputs": [
    {
     "name": "stdout",
     "output_type": "stream",
     "text": [
      "Welcome to the 'Guess the number' game.\n"
     ]
    }
   ],
   "source": [
    "print(\"Welcome to the 'Guess the number' game.\")"
   ]
  },
  {
   "cell_type": "markdown",
   "metadata": {},
   "source": [
    "#### Create a list to store guesses\n",
    "\n",
    "Hint: zero is a good placeholder value. It's useful because it evaluates to \"False\""
   ]
  },
  {
   "cell_type": "code",
   "execution_count": 2,
   "metadata": {},
   "outputs": [],
   "source": [
    "guess = 0"
   ]
  },
  {
   "cell_type": "markdown",
   "metadata": {},
   "source": [
    "#### Write a `while` loop that asks for a valid guess. Test it a few times to make sure it works."
   ]
  },
  {
   "cell_type": "code",
   "execution_count": 3,
   "metadata": {},
   "outputs": [
    {
     "name": "stdout",
     "output_type": "stream",
     "text": [
      "I have a number in mind between 1 and 100. Guess the number: 0\n",
      "Out of bounds.\n",
      "I have a number in mind between 1 and 100. Guess the number: 101\n",
      "Out of bounds.\n",
      "I have a number in mind between 1 and 100. Guess the number: 100\n",
      "Your guess is 100\n"
     ]
    }
   ],
   "source": [
    "while True:\n",
    "    guess = int(input(\"I have a number in mind between 1 and 100. Guess the number: \"))\n",
    "    \n",
    "    if guess not in range(1, 101):\n",
    "        print(\"Out of bounds.\")\n",
    "    else:\n",
    "        print(f\"Your guess is {guess}\")\n",
    "        break\n",
    "    "
   ]
  },
  {
   "cell_type": "markdown",
   "metadata": {},
   "source": [
    "#### Write a `while` loop that compares the player's guess to our number. If the player guesses correctly, break from the loop. Otherwise, tell the player if they're warmer or colder, and continue asking for guesses.\n",
    "\n",
    "Some hints:\n",
    "* it may help to sketch out all possible combinations on paper first!\n",
    "* you can use the `abs()` function to find the positive difference between two numbers\n",
    "* if you append all new guesses to the list, then the previous guess is given as `guesses[-2]`"
   ]
  },
  {
   "cell_type": "code",
   "execution_count": 2,
   "metadata": {},
   "outputs": [
    {
     "name": "stdout",
     "output_type": "stream",
     "text": [
      "31\n",
      "Welcome to 'Guess the Number' game!\n",
      "I'm thinking of a number between 1 and 100\n",
      "If your guess is more than 10 away from my number, I'll tell you you're COLD\n",
      "If your guess is within 10 of my number, I'll tell you you're WARM\n",
      "If your guess is farther than your most recent guess, I'll say you're getting COLDER\n",
      "If your guess is closer than your most recent guess, I'll say you're getting WARMER\n",
      "Let's Play!\n",
      "I have a number in mind between 1 and 100. Guess the number: 0\n",
      "Out of bounds.\n",
      "I have a number in mind between 1 and 100. Guess the number: 101\n",
      "Out of bounds.\n",
      "I have a number in mind between 1 and 100. Guess the number: 25\n",
      "WARM!\n",
      "I have a number in mind between 1 and 100. Guess the number: 35\n",
      "WARMER!\n",
      "I have a number in mind between 1 and 100. Guess the number: 40\n",
      "COLDER!\n",
      "I have a number in mind between 1 and 100. Guess the number: 28\n",
      "WARMER!\n",
      "I have a number in mind between 1 and 100. Guess the number: 24\n",
      "COLDER!\n",
      "I have a number in mind between 1 and 100. Guess the number: 29\n",
      "WARMER!\n",
      "I have a number in mind between 1 and 100. Guess the number: 33\n",
      "COLDER!\n",
      "I have a number in mind between 1 and 100. Guess the number: 30\n",
      "WARMER!\n",
      "I have a number in mind between 1 and 100. Guess the number: 32\n",
      "COLDER!\n",
      "I have a number in mind between 1 and 100. Guess the number: 31\n",
      "Congrats, you guess it right! You took 10 attempt(s).\n"
     ]
    }
   ],
   "source": [
    "from random import randint\n",
    "\n",
    "num = randint(1, 101)\n",
    "print(num)\n",
    "\n",
    "guesses = [0]\n",
    "\n",
    "print(\"Welcome to 'Guess the Number' game!\")\n",
    "print(\"I'm thinking of a number between 1 and 100\")\n",
    "print(\"If your guess is more than 10 away from my number, I'll tell you you're COLD\")\n",
    "print(\"If your guess is within 10 of my number, I'll tell you you're WARM\")\n",
    "print(\"If your guess is farther than your most recent guess, I'll say you're getting COLDER\")\n",
    "print(\"If your guess is closer than your most recent guess, I'll say you're getting WARMER\")\n",
    "print(\"Let's Play!\")\n",
    "\n",
    "while True:\n",
    "    guess = int(input(\"I have a number in mind between 1 and 100. Guess the number: \"))\n",
    "    \n",
    "    if guess not in range(1, 101):\n",
    "        print(\"Out of bounds.\")\n",
    "        continue\n",
    "        \n",
    "    if guess == num:\n",
    "        print(f\"Congrats, you guess it right! You took {len(guesses)} attempt(s).\")\n",
    "        break\n",
    "    \n",
    "    # if guess is not correct, add it to list for further comparisions.\n",
    "    guesses.append(guess)\n",
    "    \n",
    "    # last element is index '-1' and for first attempt first element which is 0 will be index '-2'\n",
    "    # guesses[-2] evaluates to 0 and hence the condition evaluates to 'False'\n",
    "    # we are first checking if it is not the first attempt and then if it is first attempt\n",
    "    if guesses[-2]:\n",
    "        if abs(guess - num) < abs(guesses[-2] - num):\n",
    "            print(\"WARMER!\")\n",
    "        else:\n",
    "            print(\"COLDER!\")\n",
    "    else:\n",
    "        if abs(guess - num) <= 10:\n",
    "            print(\"WARM!\")\n",
    "        else:\n",
    "            print(\"COLD!\")\n"
   ]
  },
  {
   "cell_type": "markdown",
   "metadata": {},
   "source": [
    "That's it! You've just programmed your first game!\n",
    "\n",
    "In the next section we'll learn how to turn some of these repetitive actions into *functions* that can be called whenever we need them."
   ]
  },
  {
   "cell_type": "markdown",
   "metadata": {},
   "source": [
    "### Good Job!"
   ]
  }
 ],
 "metadata": {
  "kernelspec": {
   "display_name": "Python 3",
   "language": "python",
   "name": "python3"
  },
  "language_info": {
   "codemirror_mode": {
    "name": "ipython",
    "version": 3
   },
   "file_extension": ".py",
   "mimetype": "text/x-python",
   "name": "python",
   "nbconvert_exporter": "python",
   "pygments_lexer": "ipython3",
   "version": "3.8.8"
  }
 },
 "nbformat": 4,
 "nbformat_minor": 2
}
